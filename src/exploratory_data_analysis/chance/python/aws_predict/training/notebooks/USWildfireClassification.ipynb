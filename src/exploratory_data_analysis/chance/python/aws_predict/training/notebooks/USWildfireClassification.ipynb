{
 "metadata": {
  "language_info": {
   "codemirror_mode": {
    "name": "ipython",
    "version": 3
   },
   "file_extension": ".py",
   "mimetype": "text/x-python",
   "name": "python",
   "nbconvert_exporter": "python",
   "pygments_lexer": "ipython3",
   "version": "3.7.9-final"
  },
  "orig_nbformat": 2,
  "kernelspec": {
   "name": "Python 3.7.9 64-bit ('USWildfireAnalysis': pipenv)",
   "display_name": "Python 3.7.9 64-bit ('USWildfireAnalysis': pipenv)",
   "metadata": {
    "interpreter": {
     "hash": "c96a7008448e8b5f08cabfb7cf520eb9bef31144e14d95748a89e3ccf55e7ddd"
    }
   }
  }
 },
 "nbformat": 4,
 "nbformat_minor": 2,
 "cells": [
  {
   "source": [
    "# Data Preparation"
   ],
   "cell_type": "markdown",
   "metadata": {}
  },
  {
   "source": [
    "## Library Imports"
   ],
   "cell_type": "markdown",
   "metadata": {}
  },
  {
   "cell_type": "code",
   "execution_count": 1,
   "metadata": {},
   "outputs": [],
   "source": [
    "# Base Imports\n",
    "import sqlite3\n",
    "import pandas as pd\n",
    "import numpy as np \n",
    "\n",
    "# Pre-processing\n",
    "from sklearn.preprocessing import LabelEncoder\n",
    "\n",
    "# Metrics and Evaluation\n",
    "from sklearn.metrics import accuracy_score\n",
    "from sklearn.metrics import classification_report\n",
    "\n",
    "# Model Selection\n",
    "from sklearn.model_selection import train_test_split\n",
    "from sklearn.model_selection import cross_val_score\n",
    "\n",
    "# Pipeline\n",
    "from sklearn.pipeline import Pipeline\n",
    "import joblib\n",
    "\n",
    "# Estimators\n",
    "from sklearn.multiclass import OneVsRestClassifier\n",
    "from sklearn.naive_bayes import GaussianNB\n",
    "from sklearn.tree import DecisionTreeClassifier\n",
    "from sklearn.neighbors import KNeighborsClassifier\n"
   ]
  },
  {
   "cell_type": "code",
   "execution_count": 2,
   "metadata": {},
   "outputs": [],
   "source": [
    "estimator = \"decision_tree_classifier\""
   ]
  },
  {
   "cell_type": "code",
   "execution_count": 3,
   "metadata": {},
   "outputs": [],
   "source": [
    "conn = sqlite3.connect('../../../../../../../data/FPA_FOD_20170508.sqlite')"
   ]
  },
  {
   "cell_type": "code",
   "execution_count": 4,
   "metadata": {},
   "outputs": [],
   "source": [
    "df_fires = pd.read_sql_query(\"SELECT LATITUDE, LONGITUDE, DISCOVERY_DATE, FIRE_SIZE, STATE,OWNER_DESCR, STAT_CAUSE_DESCR FROM 'Fires'\", conn)"
   ]
  },
  {
   "cell_type": "code",
   "execution_count": 5,
   "metadata": {},
   "outputs": [
    {
     "output_type": "stream",
     "name": "stdout",
     "text": [
      "<class 'pandas.core.frame.DataFrame'>\nRangeIndex: 1880465 entries, 0 to 1880464\nData columns (total 7 columns):\n #   Column            Dtype  \n---  ------            -----  \n 0   LATITUDE          float64\n 1   LONGITUDE         float64\n 2   DISCOVERY_DATE    float64\n 3   FIRE_SIZE         float64\n 4   STATE             object \n 5   OWNER_DESCR       object \n 6   STAT_CAUSE_DESCR  object \ndtypes: float64(4), object(3)\nmemory usage: 100.4+ MB\n"
     ]
    }
   ],
   "source": [
    "df_fires.info()"
   ]
  },
  {
   "cell_type": "code",
   "execution_count": 6,
   "metadata": {},
   "outputs": [
    {
     "output_type": "execute_result",
     "data": {
      "text/plain": [
       "LATITUDE            False\n",
       "LONGITUDE           False\n",
       "DISCOVERY_DATE      False\n",
       "FIRE_SIZE           False\n",
       "STATE               False\n",
       "OWNER_DESCR         False\n",
       "STAT_CAUSE_DESCR    False\n",
       "dtype: bool"
      ]
     },
     "metadata": {},
     "execution_count": 6
    }
   ],
   "source": [
    "df_fires.isna().any()"
   ]
  },
  {
   "cell_type": "code",
   "execution_count": 7,
   "metadata": {},
   "outputs": [],
   "source": [
    "df_fires[\"DISCOVERY_DATETIME\"] = pd.to_datetime(df_fires[\"DISCOVERY_DATE\"], unit='D', origin='julian')"
   ]
  },
  {
   "cell_type": "code",
   "execution_count": 8,
   "metadata": {},
   "outputs": [],
   "source": [
    "df_fires['DISCOVERY_DAY_OF_WEEK'] = df_fires[\"DISCOVERY_DATETIME\"].dt.day_name()"
   ]
  },
  {
   "cell_type": "code",
   "execution_count": 9,
   "metadata": {},
   "outputs": [],
   "source": [
    "# create an instance of LabelEncoder\n",
    "label_encoder = LabelEncoder()\n",
    "\n",
    "# map to numerical values in a new variable\n",
    "df_fires[\"STATE_CAT\"] = label_encoder.fit_transform(df_fires['STATE'])\n",
    "df_fires[\"OWNER_DESCR_CAT\"] = label_encoder.fit_transform(df_fires['OWNER_DESCR'])\n",
    "df_fires[\"DISCOVERY_DAY_OF_WEEK_CAT\"] = label_encoder.fit_transform(df_fires['DISCOVERY_DAY_OF_WEEK'])"
   ]
  },
  {
   "cell_type": "code",
   "execution_count": 10,
   "metadata": {},
   "outputs": [
    {
     "output_type": "stream",
     "name": "stdout",
     "text": [
      "<class 'pandas.core.frame.DataFrame'>\nRangeIndex: 1880465 entries, 0 to 1880464\nData columns (total 12 columns):\n #   Column                     Dtype         \n---  ------                     -----         \n 0   LATITUDE                   float64       \n 1   LONGITUDE                  float64       \n 2   DISCOVERY_DATE             float64       \n 3   FIRE_SIZE                  float64       \n 4   STATE                      object        \n 5   OWNER_DESCR                object        \n 6   STAT_CAUSE_DESCR           object        \n 7   DISCOVERY_DATETIME         datetime64[ns]\n 8   DISCOVERY_DAY_OF_WEEK      object        \n 9   STATE_CAT                  int64         \n 10  OWNER_DESCR_CAT            int64         \n 11  DISCOVERY_DAY_OF_WEEK_CAT  int64         \ndtypes: datetime64[ns](1), float64(4), int64(3), object(4)\nmemory usage: 172.2+ MB\n"
     ]
    }
   ],
   "source": [
    "df_fires.info()"
   ]
  },
  {
   "cell_type": "code",
   "execution_count": 11,
   "metadata": {},
   "outputs": [],
   "source": [
    "\n",
    "X = df_fires[[\"LATITUDE\", \"LONGITUDE\", \"DISCOVERY_DATE\", \"FIRE_SIZE\", \"STATE_CAT\", \"OWNER_DESCR_CAT\", \"DISCOVERY_DAY_OF_WEEK_CAT\"]]\n",
    "y = df_fires[\"STAT_CAUSE_DESCR\"]"
   ]
  },
  {
   "source": [
    "## Train / Test Split"
   ],
   "cell_type": "markdown",
   "metadata": {}
  },
  {
   "cell_type": "code",
   "execution_count": 12,
   "metadata": {},
   "outputs": [],
   "source": [
    "X_train, X_test, y_train, y_test = train_test_split(X, y, \n",
    "    test_size=0.1, \n",
    "    random_state=1, \n",
    "    stratify=y)"
   ]
  },
  {
   "source": [
    "## Gaussian Naive Bayes Classifier\n",
    "\n"
   ],
   "cell_type": "markdown",
   "metadata": {}
  },
  {
   "cell_type": "code",
   "execution_count": 13,
   "metadata": {},
   "outputs": [
    {
     "output_type": "stream",
     "name": "stdout",
     "text": [
      "CPU times: user 3 µs, sys: 0 ns, total: 3 µs\nWall time: 5.72 µs\n"
     ]
    }
   ],
   "source": [
    "%%time\n",
    "\n",
    "if estimator == \"gaussian_nb\":\n",
    "    \n",
    "    clf = OneVsRestClassifier(GaussianNB())\n",
    "\n",
    "    clf.fit(X_train, y_train)"
   ]
  },
  {
   "source": [
    "## Train Decision Classifier"
   ],
   "cell_type": "markdown",
   "metadata": {}
  },
  {
   "cell_type": "code",
   "execution_count": 14,
   "metadata": {},
   "outputs": [
    {
     "output_type": "stream",
     "name": "stdout",
     "text": [
      "CPU times: user 1min 56s, sys: 982 ms, total: 1min 57s\nWall time: 1min 58s\n"
     ]
    }
   ],
   "source": [
    "%%time\n",
    "\n",
    "if estimator == \"decision_tree_classifier\":\n",
    "\n",
    "    clf = OneVsRestClassifier(DecisionTreeClassifier(random_state=1, \n",
    "        splitter='best', \n",
    "        min_samples_split=5, \n",
    "        min_samples_leaf=4, \n",
    "        max_features='auto', \n",
    "        class_weight=None))\n",
    "\n",
    "    clf.fit(X_train, y_train)"
   ]
  },
  {
   "cell_type": "code",
   "execution_count": 15,
   "metadata": {},
   "outputs": [
    {
     "output_type": "stream",
     "name": "stdout",
     "text": [
      "CPU times: user 806 ms, sys: 36.6 ms, total: 842 ms\nWall time: 861 ms\n"
     ]
    }
   ],
   "source": [
    "%%time\n",
    "y_pred = clf.predict(X_test)"
   ]
  },
  {
   "cell_type": "code",
   "execution_count": 16,
   "metadata": {},
   "outputs": [
    {
     "output_type": "stream",
     "name": "stdout",
     "text": [
      "accuracy: 0.5223640898286067\nCPU times: user 543 ms, sys: 8.84 ms, total: 552 ms\nWall time: 554 ms\n"
     ]
    }
   ],
   "source": [
    "%%time\n",
    "print ('accuracy:', accuracy_score(y_test, y_pred))"
   ]
  },
  {
   "cell_type": "code",
   "execution_count": 17,
   "metadata": {},
   "outputs": [
    {
     "output_type": "stream",
     "name": "stdout",
     "text": [
      "                   precision    recall  f1-score   support\n\n            Arson       0.51      0.48      0.50     28145\n         Campfire       0.39      0.28      0.33      7614\n         Children       0.24      0.16      0.19      6117\n   Debris Burning       0.51      0.56      0.53     42903\n    Equipment Use       0.31      0.27      0.29     14761\n        Fireworks       0.37      0.31      0.34      1150\n        Lightning       0.70      0.75      0.72     27847\n    Miscellaneous       0.47      0.49      0.48     32381\nMissing/Undefined       0.88      0.89      0.88     16672\n        Powerline       0.15      0.12      0.13      1445\n         Railroad       0.40      0.40      0.40      3345\n          Smoking       0.13      0.09      0.10      5287\n        Structure       0.01      0.07      0.02       380\n\n         accuracy                           0.52    188047\n        macro avg       0.39      0.37      0.38    188047\n     weighted avg       0.52      0.52      0.52    188047\n\n"
     ]
    }
   ],
   "source": [
    "\n",
    "print(classification_report(y_test, y_pred))"
   ]
  },
  {
   "cell_type": "code",
   "execution_count": 18,
   "metadata": {},
   "outputs": [],
   "source": [
    "if estimator == \"decision_tree_classifier\":\n",
    "    joblib.dump(clf, '../models/decission_tree_classifier.pkl', compress=3)\n",
    "elif estimator == \"gaussian_nb\":\n",
    "    joblib.dump(clf, '../models/gaussian_nb_classifier.pkl')\n",
    "elif estimator ==\"kneighbors_classifier\":\n",
    "    joblib.dump(clf, '../models/knn_classifier.pkl')\n",
    "else:\n",
    "    pass   "
   ]
  },
  {
   "cell_type": "code",
   "execution_count": 19,
   "metadata": {},
   "outputs": [
    {
     "output_type": "stream",
     "name": "stdout",
     "text": [
      "         LATITUDE   LONGITUDE  DISCOVERY_DATE  FIRE_SIZE  STATE_CAT  \\\n161943  43.235833 -122.466944       2452859.5        0.1         37   \n\n        OWNER_DESCR_CAT  DISCOVERY_DAY_OF_WEEK_CAT  \n161943               15                          0  \n"
     ]
    }
   ],
   "source": [
    "print(X_test[:1])"
   ]
  },
  {
   "cell_type": "code",
   "execution_count": 20,
   "metadata": {},
   "outputs": [
    {
     "output_type": "stream",
     "name": "stdout",
     "text": [
      "161943    Lightning\nName: STAT_CAUSE_DESCR, dtype: object\n"
     ]
    }
   ],
   "source": [
    "print(y_test[:1])"
   ]
  },
  {
   "cell_type": "code",
   "execution_count": 21,
   "metadata": {},
   "outputs": [
    {
     "output_type": "execute_result",
     "data": {
      "text/plain": [
       "array(['Lightning'], dtype='<U17')"
      ]
     },
     "metadata": {},
     "execution_count": 21
    }
   ],
   "source": [
    "if estimator == \"decision_tree_classifier\":\n",
    "    classifier = joblib.load('../models/decission_tree_classifier.pkl') \n",
    "elif estimator == \"gaussian_nb\":\n",
    "    classifier = joblib.load('../models/gaussian_nb_classifier.pkl') \n",
    "elif estimator ==\"kneighbors_classifier\":\n",
    "    classifier = joblib.load('../models/knn_classifier.pkl') \n",
    "else:\n",
    "    pass   \n",
    "\n",
    "# classifier = joblib.load('../models/decission_tree_classifier.pkl')    \n",
    "\n",
    "pred_test = [[43.235833, -122.466944, 2452859.5, 0.1, 37, 15, 0]]\n",
    "\n",
    "classifier.predict(pred_test)"
   ]
  },
  {
   "cell_type": "code",
   "execution_count": 79,
   "metadata": {},
   "outputs": [],
   "source": [
    "pred_proba = classifier.predict_proba(pred_test)"
   ]
  },
  {
   "cell_type": "code",
   "execution_count": 96,
   "metadata": {},
   "outputs": [
    {
     "output_type": "execute_result",
     "data": {
      "text/plain": [
       "array([[0.        , 0.17494333, 0.00865444, 0.        , 0.        ,\n",
       "        0.        , 0.81640223, 0.        , 0.        , 0.        ,\n",
       "        0.        , 0.        , 0.        ]])"
      ]
     },
     "metadata": {},
     "execution_count": 96
    }
   ],
   "source": [
    "pred_proba"
   ]
  },
  {
   "cell_type": "code",
   "execution_count": 81,
   "metadata": {},
   "outputs": [],
   "source": [
    "max_proba = np.argmax(pred_proba, axis=1)"
   ]
  },
  {
   "cell_type": "code",
   "execution_count": 119,
   "metadata": {},
   "outputs": [
    {
     "output_type": "execute_result",
     "data": {
      "text/plain": [
       "0.8164022254275706"
      ]
     },
     "metadata": {},
     "execution_count": 119
    }
   ],
   "source": [
    "pred_proba[[0][0]][int(max_proba)]"
   ]
  },
  {
   "cell_type": "code",
   "execution_count": 78,
   "metadata": {},
   "outputs": [
    {
     "output_type": "execute_result",
     "data": {
      "text/plain": [
       "array(['Arson', 'Campfire', 'Children', 'Debris Burning', 'Equipment Use',\n",
       "       'Fireworks', 'Lightning', 'Miscellaneous', 'Missing/Undefined',\n",
       "       'Powerline', 'Railroad', 'Smoking', 'Structure'], dtype='<U17')"
      ]
     },
     "metadata": {},
     "execution_count": 78
    }
   ],
   "source": [
    "classifier.classes_"
   ]
  }
 ]
}