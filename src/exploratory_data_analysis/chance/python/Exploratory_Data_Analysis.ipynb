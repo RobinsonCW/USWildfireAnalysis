{
 "metadata": {
  "language_info": {
   "codemirror_mode": {
    "name": "ipython",
    "version": 3
   },
   "file_extension": ".py",
   "mimetype": "text/x-python",
   "name": "python",
   "nbconvert_exporter": "python",
   "pygments_lexer": "ipython3",
   "version": "3.7.1-final"
  },
  "orig_nbformat": 2,
  "kernelspec": {
   "name": "python_defaultSpec_1600535889599",
   "display_name": "Python 3.7.1 64-bit ('ML7331': conda)"
  }
 },
 "nbformat": 4,
 "nbformat_minor": 2,
 "cells": [
  {
   "cell_type": "code",
   "execution_count": 2,
   "metadata": {},
   "outputs": [],
   "source": [
    "import sqlite3\n",
    "import pandas as pd\n",
    "import numpy as np\n",
    "import matplotlib.pyplot as plt"
   ]
  },
  {
   "cell_type": "code",
   "execution_count": 3,
   "metadata": {},
   "outputs": [],
   "source": [
    "conn = sqlite3.connect('../../../../data/FPA_FOD_20170508.sqlite')"
   ]
  },
  {
   "cell_type": "code",
   "execution_count": 4,
   "metadata": {},
   "outputs": [],
   "source": [
    "df_fires = pd.read_sql_query(\"SELECT * FROM 'Fires'\", conn)\n",
    "# df_fires = pd.read_sql_query(\"SELECT FIRE_YEAR,STAT_CAUSE_DESCR,LATITUDE,LONGITUDE,STATE,DISCOVERY_DATE,FIRE_SIZE FROM 'Fires'\", conn)\n"
   ]
  },
  {
   "cell_type": "code",
   "execution_count": 12,
   "metadata": {
    "tags": []
   },
   "outputs": [
    {
     "output_type": "stream",
     "name": "stdout",
     "text": "<class 'pandas.core.frame.DataFrame'>\nRangeIndex: 1880465 entries, 0 to 1880464\nData columns (total 39 columns):\n #   Column                      Dtype  \n---  ------                      -----  \n 0   OBJECTID                    int64  \n 1   FOD_ID                      int64  \n 2   FPA_ID                      object \n 3   SOURCE_SYSTEM_TYPE          object \n 4   SOURCE_SYSTEM               object \n 5   NWCG_REPORTING_AGENCY       object \n 6   NWCG_REPORTING_UNIT_ID      object \n 7   NWCG_REPORTING_UNIT_NAME    object \n 8   SOURCE_REPORTING_UNIT       object \n 9   SOURCE_REPORTING_UNIT_NAME  object \n 10  LOCAL_FIRE_REPORT_ID        object \n 11  LOCAL_INCIDENT_ID           object \n 12  FIRE_CODE                   object \n 13  FIRE_NAME                   object \n 14  ICS_209_INCIDENT_NUMBER     object \n 15  ICS_209_NAME                object \n 16  MTBS_ID                     object \n 17  MTBS_FIRE_NAME              object \n 18  COMPLEX_NAME                object \n 19  FIRE_YEAR                   int64  \n 20  DISCOVERY_DATE              float64\n 21  DISCOVERY_DOY               int64  \n 22  DISCOVERY_TIME              object \n 23  STAT_CAUSE_CODE             float64\n 24  STAT_CAUSE_DESCR            object \n 25  CONT_DATE                   float64\n 26  CONT_DOY                    float64\n 27  CONT_TIME                   object \n 28  FIRE_SIZE                   float64\n 29  FIRE_SIZE_CLASS             object \n 30  LATITUDE                    float64\n 31  LONGITUDE                   float64\n 32  OWNER_CODE                  float64\n 33  OWNER_DESCR                 object \n 34  STATE                       object \n 35  COUNTY                      object \n 36  FIPS_CODE                   object \n 37  FIPS_NAME                   object \n 38  Shape                       object \ndtypes: float64(8), int64(4), object(27)\nmemory usage: 559.5+ MB\n"
    }
   ],
   "source": [
    "df_fires.info()"
   ]
  },
  {
   "cell_type": "code",
   "execution_count": 11,
   "metadata": {},
   "outputs": [
    {
     "output_type": "execute_result",
     "data": {
      "text/plain": "OBJECTID                                                                      1\nFOD_ID                                                                        1\nFPA_ID                                                               FS-1418826\nSOURCE_SYSTEM_TYPE                                                          FED\nSOURCE_SYSTEM                                                       FS-FIRESTAT\nNWCG_REPORTING_AGENCY                                                        FS\nNWCG_REPORTING_UNIT_ID                                                  USCAPNF\nNWCG_REPORTING_UNIT_NAME                                 Plumas National Forest\nSOURCE_REPORTING_UNIT                                                      0511\nSOURCE_REPORTING_UNIT_NAME                               Plumas National Forest\nLOCAL_FIRE_REPORT_ID                                                          1\nLOCAL_INCIDENT_ID                                                        PNF-47\nFIRE_CODE                                                                  BJ8K\nFIRE_NAME                                                              FOUNTAIN\nICS_209_INCIDENT_NUMBER                                                    None\nICS_209_NAME                                                               None\nMTBS_ID                                                                    None\nMTBS_FIRE_NAME                                                             None\nCOMPLEX_NAME                                                               None\nFIRE_YEAR                                                                  2005\nDISCOVERY_DATE                                                       2.4534e+06\nDISCOVERY_DOY                                                                33\nDISCOVERY_TIME                                                             1300\nSTAT_CAUSE_CODE                                                               9\nSTAT_CAUSE_DESCR                                                  Miscellaneous\nCONT_DATE                                                            2.4534e+06\nCONT_DOY                                                                     33\nCONT_TIME                                                                  1730\nFIRE_SIZE                                                                   0.1\nFIRE_SIZE_CLASS                                                               A\nLATITUDE                                                                40.0369\nLONGITUDE                                                              -121.006\nOWNER_CODE                                                                    5\nOWNER_DESCR                                                                USFS\nSTATE                                                                        CA\nCOUNTY                                                                       63\nFIPS_CODE                                                                   063\nFIPS_NAME                                                                Plumas\nShape                         b'\\x00\\x01\\xad\\x10\\x00\\x00\\xe8d\\xc2\\x92_@^\\xc0...\nName: 0, dtype: object"
     },
     "metadata": {},
     "execution_count": 11
    }
   ],
   "source": [
    "df_fires.iloc[0]"
   ]
  },
  {
   "cell_type": "code",
   "execution_count": 13,
   "metadata": {},
   "outputs": [
    {
     "output_type": "execute_result",
     "data": {
      "text/plain": "   OBJECTID  FOD_ID      FPA_ID SOURCE_SYSTEM_TYPE SOURCE_SYSTEM  \\\n0         1       1  FS-1418826                FED   FS-FIRESTAT   \n1         2       2  FS-1418827                FED   FS-FIRESTAT   \n2         3       3  FS-1418835                FED   FS-FIRESTAT   \n3         4       4  FS-1418845                FED   FS-FIRESTAT   \n4         5       5  FS-1418847                FED   FS-FIRESTAT   \n\n  NWCG_REPORTING_AGENCY NWCG_REPORTING_UNIT_ID  NWCG_REPORTING_UNIT_NAME  \\\n0                    FS                USCAPNF    Plumas National Forest   \n1                    FS                USCAENF  Eldorado National Forest   \n2                    FS                USCAENF  Eldorado National Forest   \n3                    FS                USCAENF  Eldorado National Forest   \n4                    FS                USCAENF  Eldorado National Forest   \n\n  SOURCE_REPORTING_UNIT SOURCE_REPORTING_UNIT_NAME  ... FIRE_SIZE_CLASS  \\\n0                  0511     Plumas National Forest  ...               A   \n1                  0503   Eldorado National Forest  ...               A   \n2                  0503   Eldorado National Forest  ...               A   \n3                  0503   Eldorado National Forest  ...               A   \n4                  0503   Eldorado National Forest  ...               A   \n\n    LATITUDE   LONGITUDE OWNER_CODE       OWNER_DESCR STATE COUNTY FIPS_CODE  \\\n0  40.036944 -121.005833        5.0              USFS    CA     63       063   \n1  38.933056 -120.404444        5.0              USFS    CA     61       061   \n2  38.984167 -120.735556       13.0  STATE OR PRIVATE    CA     17       017   \n3  38.559167 -119.913333        5.0              USFS    CA      3       003   \n4  38.559167 -119.933056        5.0              USFS    CA      3       003   \n\n   FIPS_NAME                                              Shape  \n0     Plumas  b'\\x00\\x01\\xad\\x10\\x00\\x00\\xe8d\\xc2\\x92_@^\\xc0...  \n1     Placer  b'\\x00\\x01\\xad\\x10\\x00\\x00T\\xb6\\xeej\\xe2\\x19^\\...  \n2  El Dorado  b'\\x00\\x01\\xad\\x10\\x00\\x00\\xd0\\xa5\\xa0W\\x13/^\\...  \n3     Alpine  b'\\x00\\x01\\xad\\x10\\x00\\x00\\x94\\xac\\xa3\\rt\\xfa]...  \n4     Alpine  b'\\x00\\x01\\xad\\x10\\x00\\x00@\\xe3\\xaa.\\xb7\\xfb]\\...  \n\n[5 rows x 39 columns]",
      "text/html": "<div>\n<style scoped>\n    .dataframe tbody tr th:only-of-type {\n        vertical-align: middle;\n    }\n\n    .dataframe tbody tr th {\n        vertical-align: top;\n    }\n\n    .dataframe thead th {\n        text-align: right;\n    }\n</style>\n<table border=\"1\" class=\"dataframe\">\n  <thead>\n    <tr style=\"text-align: right;\">\n      <th></th>\n      <th>OBJECTID</th>\n      <th>FOD_ID</th>\n      <th>FPA_ID</th>\n      <th>SOURCE_SYSTEM_TYPE</th>\n      <th>SOURCE_SYSTEM</th>\n      <th>NWCG_REPORTING_AGENCY</th>\n      <th>NWCG_REPORTING_UNIT_ID</th>\n      <th>NWCG_REPORTING_UNIT_NAME</th>\n      <th>SOURCE_REPORTING_UNIT</th>\n      <th>SOURCE_REPORTING_UNIT_NAME</th>\n      <th>...</th>\n      <th>FIRE_SIZE_CLASS</th>\n      <th>LATITUDE</th>\n      <th>LONGITUDE</th>\n      <th>OWNER_CODE</th>\n      <th>OWNER_DESCR</th>\n      <th>STATE</th>\n      <th>COUNTY</th>\n      <th>FIPS_CODE</th>\n      <th>FIPS_NAME</th>\n      <th>Shape</th>\n    </tr>\n  </thead>\n  <tbody>\n    <tr>\n      <th>0</th>\n      <td>1</td>\n      <td>1</td>\n      <td>FS-1418826</td>\n      <td>FED</td>\n      <td>FS-FIRESTAT</td>\n      <td>FS</td>\n      <td>USCAPNF</td>\n      <td>Plumas National Forest</td>\n      <td>0511</td>\n      <td>Plumas National Forest</td>\n      <td>...</td>\n      <td>A</td>\n      <td>40.036944</td>\n      <td>-121.005833</td>\n      <td>5.0</td>\n      <td>USFS</td>\n      <td>CA</td>\n      <td>63</td>\n      <td>063</td>\n      <td>Plumas</td>\n      <td>b'\\x00\\x01\\xad\\x10\\x00\\x00\\xe8d\\xc2\\x92_@^\\xc0...</td>\n    </tr>\n    <tr>\n      <th>1</th>\n      <td>2</td>\n      <td>2</td>\n      <td>FS-1418827</td>\n      <td>FED</td>\n      <td>FS-FIRESTAT</td>\n      <td>FS</td>\n      <td>USCAENF</td>\n      <td>Eldorado National Forest</td>\n      <td>0503</td>\n      <td>Eldorado National Forest</td>\n      <td>...</td>\n      <td>A</td>\n      <td>38.933056</td>\n      <td>-120.404444</td>\n      <td>5.0</td>\n      <td>USFS</td>\n      <td>CA</td>\n      <td>61</td>\n      <td>061</td>\n      <td>Placer</td>\n      <td>b'\\x00\\x01\\xad\\x10\\x00\\x00T\\xb6\\xeej\\xe2\\x19^\\...</td>\n    </tr>\n    <tr>\n      <th>2</th>\n      <td>3</td>\n      <td>3</td>\n      <td>FS-1418835</td>\n      <td>FED</td>\n      <td>FS-FIRESTAT</td>\n      <td>FS</td>\n      <td>USCAENF</td>\n      <td>Eldorado National Forest</td>\n      <td>0503</td>\n      <td>Eldorado National Forest</td>\n      <td>...</td>\n      <td>A</td>\n      <td>38.984167</td>\n      <td>-120.735556</td>\n      <td>13.0</td>\n      <td>STATE OR PRIVATE</td>\n      <td>CA</td>\n      <td>17</td>\n      <td>017</td>\n      <td>El Dorado</td>\n      <td>b'\\x00\\x01\\xad\\x10\\x00\\x00\\xd0\\xa5\\xa0W\\x13/^\\...</td>\n    </tr>\n    <tr>\n      <th>3</th>\n      <td>4</td>\n      <td>4</td>\n      <td>FS-1418845</td>\n      <td>FED</td>\n      <td>FS-FIRESTAT</td>\n      <td>FS</td>\n      <td>USCAENF</td>\n      <td>Eldorado National Forest</td>\n      <td>0503</td>\n      <td>Eldorado National Forest</td>\n      <td>...</td>\n      <td>A</td>\n      <td>38.559167</td>\n      <td>-119.913333</td>\n      <td>5.0</td>\n      <td>USFS</td>\n      <td>CA</td>\n      <td>3</td>\n      <td>003</td>\n      <td>Alpine</td>\n      <td>b'\\x00\\x01\\xad\\x10\\x00\\x00\\x94\\xac\\xa3\\rt\\xfa]...</td>\n    </tr>\n    <tr>\n      <th>4</th>\n      <td>5</td>\n      <td>5</td>\n      <td>FS-1418847</td>\n      <td>FED</td>\n      <td>FS-FIRESTAT</td>\n      <td>FS</td>\n      <td>USCAENF</td>\n      <td>Eldorado National Forest</td>\n      <td>0503</td>\n      <td>Eldorado National Forest</td>\n      <td>...</td>\n      <td>A</td>\n      <td>38.559167</td>\n      <td>-119.933056</td>\n      <td>5.0</td>\n      <td>USFS</td>\n      <td>CA</td>\n      <td>3</td>\n      <td>003</td>\n      <td>Alpine</td>\n      <td>b'\\x00\\x01\\xad\\x10\\x00\\x00@\\xe3\\xaa.\\xb7\\xfb]\\...</td>\n    </tr>\n  </tbody>\n</table>\n<p>5 rows × 39 columns</p>\n</div>"
     },
     "metadata": {},
     "execution_count": 13
    }
   ],
   "source": [
    "df_fires.head()"
   ]
  },
  {
   "cell_type": "code",
   "execution_count": 15,
   "metadata": {},
   "outputs": [],
   "source": [
    "# df_fires.head().to_csv(\"../../../../data/FPA_FOD_20170508_SAMPLE.CSV\", index=False)"
   ]
  }
 ]
}