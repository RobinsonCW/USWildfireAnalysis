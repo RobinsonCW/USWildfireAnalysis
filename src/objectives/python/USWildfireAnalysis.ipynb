{
 "cells": [
  {
   "cell_type": "markdown",
   "metadata": {},
   "source": [
    "# Introduction\n",
    "\n",
    "** PLACEHOLDER **\n",
    "\n",
    "Wildfires have broken out all over the western region of the United States in 2020, devastating communities and\n",
    "creating smoke plumes that can be seen even from space via satellite images. Some billows of smoke have carried\n",
    "over to places as far away as London, and it has been said that cities such as San Francisco and Seattle have\n",
    "some of the lowest quality of air on the entire planet currently due to the fires.\n",
    "As one of us lives close to the Bobcat Fire in California, which has currently burned over 93 thousand acres of land,\n",
    "the team thought it would be an interesting topic to delve into the data that has been collected in this domain over\n",
    "the past quarter century or so to mine any insights"
   ]
  },
  {
   "cell_type": "markdown",
   "metadata": {},
   "source": [
    "# US Wildfires Data Set\n",
    "\n",
    "** PLACEHOLDER **\n",
    "\n",
    "This data publication contains a spatial database of wildfires that occurred in the United States from 1992 to 2015. It is the third update of a publication originally generated to support the national Fire Program Analysis (FPA) system. The wildfire records were acquired from the reporting systems of federal, state, and local fire organizations. The following core data elements were required for records to be included in this data publication: discovery date, final fire size, and a point location at least as precise as Public Land Survey System (PLSS) section (1-square mile grid). The data were transformed to conform, when possible, to the data standards of the National Wildfire Coordinating Group (NWCG). Basic error-checking was performed and redundant records were identified and removed, to the degree possible. The resulting product, referred to as the Fire Program Analysis fire-occurrence database (FPA FOD), includes 1.88 million geo-referenced wildfire records, representing a total of 140 million acres burned during the 24-year period. \n",
    "\n",
    "(https://www.kaggle.com/rtatman/188-million-us-wildfires)"
   ]
  },
  {
   "cell_type": "markdown",
   "metadata": {},
   "source": [
    "# Objective One"
   ]
  },
  {
   "cell_type": "markdown",
   "metadata": {},
   "source": [
    "## Question of Interest\n",
    "\n",
    "Given the size, location and date, can we predict the cause of a fire wildfire?\n",
    "\n",
    "** Focus on TX and CA to limit data and training time **"
   ]
  },
  {
   "cell_type": "markdown",
   "metadata": {},
   "source": [
    "### Exploratory Data Analysis"
   ]
  },
  {
   "cell_type": "markdown",
   "metadata": {},
   "source": [
    "### Modeling"
   ]
  },
  {
   "cell_type": "markdown",
   "metadata": {},
   "source": [
    "### Predictions"
   ]
  },
  {
   "cell_type": "markdown",
   "metadata": {},
   "source": [
    "# Objective Two"
   ]
  },
  {
   "cell_type": "markdown",
   "metadata": {},
   "source": [
    "## Cloud Deployment\n",
    "\n",
    "- RDS\n",
    "- API Gateway\n",
    "- Lambda\n",
    "- Serverless\n"
   ]
  },
  {
   "cell_type": "code",
   "execution_count": null,
   "metadata": {},
   "outputs": [],
   "source": []
  },
  {
   "cell_type": "markdown",
   "metadata": {},
   "source": [
    "# Appendix"
   ]
  },
  {
   "cell_type": "markdown",
   "metadata": {},
   "source": [
    "## Data Dictionary\n",
    "\n",
    "This dataset is an SQLite database that contains the following information:\n",
    "\n",
    "The source file can be found on [Kaggle | 1.88 Million US Wildfires](https://www.kaggle.com/rtatman/188-million-us-wildfires)."
   ]
  },
  {
   "cell_type": "markdown",
   "metadata": {},
   "source": [
    "| Column Name | Data Type | Description |\n",
    "|:---|:---|:---|\n",
    "| **FOD_ID**                     | Integer | Global unique identifier. |\n",
    "| **FPA_ID**                     | String | Unique identifier that contains information necessary to track back to the original record in the source dataset. |\n",
    "| **SOURCESYSTEMTYPE**           | String | Type of source database or system that the record was drawn from (federal, nonfederal, or interagency). |\n",
    "| **SOURCESYSTEM**               | String | Name of or other identifier for source database or system that the record was drawn from. See Table 1 in Short (2014), or \\Supplements\\FPAFODsourcelist.pdf, for a list of sources and their identifier. |\n",
    "| **NWCGREPORTINGAGENCY**        | String | Active National Wildlife Coordinating Group (NWCG) Unit Identifier for the agency preparing the fire report (BIA = Bureau of Indian Affairs, BLM = Bureau of Land Management, BOR = Bureau of Reclamation, DOD = Department of Defense, DOE = Department of Energy, FS = Forest Service, FWS = Fish and Wildlife Service, IA = Interagency Organization, NPS = National Park Service, ST/C&L = State, County, or Local Organization, and TRIBE = Tribal Organization). |\n",
    "| **NWCGREPORTINGUNIT_ID**       | String | Active NWCG Unit Identifier for the unit preparing the fire report. |\n",
    "| **NWCGREPORTINGUNIT_NAME**     | String | Active NWCG Unit Name for the unit preparing the fire report. |\n",
    "| **SOURCEREPORTINGUNIT**        | String | Code for the agency unit preparing the fire report, based on code/name in the source dataset. |\n",
    "| **SOURCEREPORTINGUNIT_NAME**   | String | Name of reporting agency unit preparing the fire report, based on code/name in the source dataset. |\n",
    "| **LOCALFIREREPORT_ID**         | String | Number or code that uniquely identifies an incident report for a particular reporting unit and a particular calendar year. |\n",
    "| **LOCALINCIDENTID**            | String | Number or code that uniquely identifies an incident for a particular local fire management organization within a particular calendar year. |\n",
    "| **FIRE_CODE**                  | String | Code used within the interagency wildland fire community to track and compile cost information for emergency fire suppression (https://www.firecode.gov/).|\n",
    "| **FIRE_NAME**                  | String | Name of the incident, from the fire report (primary) or ICS-209 report (secondary). |\n",
    "| **ICS209INCIDENT_NUMBER**      | String | Incident (event) identifier, from the ICS-209 report. |\n",
    "| **ICS209NAME**                 | String | Name of the incident, from the ICS-209 report. |\n",
    "| **MTBS_ID**                    | String | Incident identifier, from the MTBS perimeter dataset. |\n",
    "| **MTBSFIRENAME**               | String | Name of the incident, from the MTBS perimeter dataset. |\n",
    "| **COMPLEX_NAME**               | String | Name of the complex under which the fire was ultimately managed, when discernible. |\n",
    "| **FIRE_YEAR**                  | Integer | Calendar year in which the fire was discovered or confirmed to exist. |\n",
    "| **DISCOVERY_DATE**             | Float | Date on which the fire was discovered or confirmed to exist. |\n",
    "| **DISCOVERY_DOY**              | Integer | Day of year on which the fire was discovered or confirmed to exist. |\n",
    "| **DISCOVERY_TIME**             | String | Time of day that the fire was discovered or confirmed to exist. |\n",
    "| **STATCAUSECODE**              | Float | Code for the (statistical) cause of the fire. |\n",
    "| **STATCAUSEDESCR**             | String | Description of the (statistical) cause of the fire. |\n",
    "| **CONT_DATE**                  | Float | Date on which the fire was declared contained or otherwise controlled (mm/dd/yyyy where mm=month, dd=day, and yyyy=year). |\n",
    "| **CONT_DOY**                   | Float | Day of year on which the fire was declared contained or otherwise controlled. |\n",
    "| **CONT_TIME**                  | String | Time of day that the fire was declared contained or otherwise controlled (hhmm where hh=hour, mm=minutes). |\n",
    "| **FIRE_SIZE**                  | Float | Estimate of acres within the final perimeter of the fire. |\n",
    "| **FIRESIZECLASS**              | String | Code for fire size based on the number of acres within the final fire perimeter expenditures (A=greater than 0 but less than or equal to 0.25 acres, B=0.26-9.9 acres, C=10.0-99.9 acres, D=100-299 acres, E=300 to 999 acres, F=1000 to 4999 acres, and G=5000+ acres). |\n",
    "| **LATITUDE**                   | Float | Latitude (NAD83) for point location of the fire (decimal degrees). |\n",
    "| **LONGITUDE**                  | Float | Longitude (NAD83) for point location of the fire (decimal degrees). |\n",
    "| **OWNER_CODE**                 | Float | Code for primary owner or entity responsible for managing the land at the point of origin of the fire at the time of the incident. |\n",
    "| **OWNER_DESCR**                | String | Name of primary owner or entity responsible for managing the land at the point of origin of the fire at the time of the incident. |\n",
    "| **STATE**                      | String | Two-letter alphabetic code for the state in which the fire burned (or originated), based on the nominal designation in the fire report. |\n",
    "| **COUNTY**                     | String | County, or equivalent, in which the fire burned (or originated), based on nominal designation in the fire report. |\n",
    "| **FIPS_CODE**                  | String | Three-digit code from the Federal Information Process Standards (FIPS) publication 6-4 for representation of counties and equivalent entities. |\n",
    "| **FIPS_NAME**                  | String | County name from the FIPS publication 6-4 for representation of counties and equivalent entities. |"
   ]
  },
  {
   "cell_type": "markdown",
   "metadata": {},
   "source": [
    "# References\n",
    "\n",
    "[Kaggle | 1.88 Million US Wildfires](https://www.kaggle.com/rtatman/188-million-us-wildfires)"
   ]
  }
 ],
 "metadata": {
  "kernelspec": {
   "display_name": "Python 3.7.1 64-bit ('ML7331': conda)",
   "language": "python",
   "name": "python37164bitml7331condacf2794d0fef349cfa281e1878aa68ff6"
  },
  "language_info": {
   "codemirror_mode": {
    "name": "ipython",
    "version": 3
   },
   "file_extension": ".py",
   "mimetype": "text/x-python",
   "name": "python",
   "nbconvert_exporter": "python",
   "pygments_lexer": "ipython3",
   "version": "3.7.1-final"
  }
 },
 "nbformat": 4,
 "nbformat_minor": 2
}