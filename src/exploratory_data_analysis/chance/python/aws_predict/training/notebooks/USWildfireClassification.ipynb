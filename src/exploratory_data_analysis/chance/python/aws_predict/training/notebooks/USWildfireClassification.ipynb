{
 "metadata": {
  "language_info": {
   "codemirror_mode": {
    "name": "ipython",
    "version": 3
   },
   "file_extension": ".py",
   "mimetype": "text/x-python",
   "name": "python",
   "nbconvert_exporter": "python",
   "pygments_lexer": "ipython3",
   "version": "3.7.1-final"
  },
  "orig_nbformat": 2,
  "kernelspec": {
   "name": "Python 3.7.1 64-bit ('ML7331': conda)",
   "display_name": "Python 3.7.1 64-bit ('ML7331': conda)",
   "metadata": {
    "interpreter": {
     "hash": "55ea758d40156c52c5ca3c72f1a0e9225b741739c4547adf58bfb9e9e8bbfb16"
    }
   }
  }
 },
 "nbformat": 4,
 "nbformat_minor": 2,
 "cells": [
  {
   "source": [
    "# Data Preparation"
   ],
   "cell_type": "markdown",
   "metadata": {}
  },
  {
   "source": [
    "## Library Imports"
   ],
   "cell_type": "markdown",
   "metadata": {}
  },
  {
   "cell_type": "code",
   "execution_count": 1,
   "metadata": {},
   "outputs": [],
   "source": [
    "# Base Imports\n",
    "import pandas as pd\n",
    "import numpy as np \n",
    "# import time\n",
    "# from matplotlib import pyplot as plt\n",
    "# from matplotlib.ticker import MaxNLocator\n",
    "# import seaborn as sns\n",
    "# %matplotlib inline\n",
    "\n",
    "# Pre-Processing\n",
    "# from sklearn.preprocessing import RobustScaler\n",
    "# from sklearn.preprocessing import StandardScaler\n",
    "# from sklearn.preprocessing import OneHotEncoder\n",
    "# from sklearn.impute import SimpleImputer\n",
    "# from sklearn.compose import ColumnTransformer\n",
    "\n",
    "# Metrics and Evaluation\n",
    "from sklearn import metrics\n",
    "from sklearn.metrics import classification_report\n",
    "# from sklearn.metrics import plot_confusion_matrix\n",
    "# from sklearn.metrics import plot_roc_curve\n",
    "\n",
    "# Train/ Test Split\n",
    "from sklearn.model_selection import train_test_split\n",
    "from sklearn.model_selection import cross_val_score\n",
    "\n",
    "from sklearn.pipeline import Pipeline\n",
    "\n",
    "# Imbalanced Data\n",
    "# from imblearn.over_sampling import SMOTE\n",
    "# from imblearn.over_sampling import BorderlineSMOTE\n",
    "# from imblearn.pipeline import make_pipeline, Pipeline\n",
    "\n",
    "# Estimators\n",
    "# from sklearn.naive_bayes import MultinomialNB\n",
    "# from sklearn.naive_bayes import BernoulliNB\n",
    "# from sklearn.naive_bayes import GaussianNB\n",
    "# from sklearn.neighbors import KNeighborsClassifier\n",
    "# from sklearn.ensemble import RandomForestClassifier\n",
    "# from sklearn.ensemble import GradientBoostingClassifier\n",
    "# from sklearn.linear_model import LogisticRegression\n",
    "# from sklearn.tree import DecisionTreeClassifier\n",
    "\n",
    "# Hyper Parameter Tuning\n",
    "# from sklearn.model_selection import GridSearchCV\n",
    "# from sklearn.model_selection import RandomizedSearchCV"
   ]
  },
  {
   "cell_type": "code",
   "execution_count": 2,
   "metadata": {},
   "outputs": [],
   "source": [
    "df_fires = pd.read_csv(\"../data/ca_fires.csv\")"
   ]
  },
  {
   "cell_type": "code",
   "execution_count": 3,
   "metadata": {},
   "outputs": [
    {
     "output_type": "stream",
     "name": "stdout",
     "text": [
      "<class 'pandas.core.frame.DataFrame'>\nRangeIndex: 189550 entries, 0 to 189549\nData columns (total 40 columns):\n #   Column                      Non-Null Count   Dtype  \n---  ------                      --------------   -----  \n 0   FOD_ID                      189550 non-null  int64  \n 1   FPA_ID                      189550 non-null  object \n 2   SOURCE_SYSTEM_TYPE          189550 non-null  object \n 3   SOURCE_SYSTEM               189550 non-null  object \n 4   NWCG_REPORTING_AGENCY       189550 non-null  object \n 5   NWCG_REPORTING_UNIT_ID      189550 non-null  object \n 6   NWCG_REPORTING_UNIT_NAME    189550 non-null  object \n 7   SOURCE_REPORTING_UNIT       189550 non-null  object \n 8   SOURCE_REPORTING_UNIT_NAME  189550 non-null  object \n 9   LOCAL_FIRE_REPORT_ID        61933 non-null   float64\n 10  LOCAL_INCIDENT_ID           127983 non-null  object \n 11  FIRE_CODE                   55522 non-null   object \n 12  FIRE_NAME                   174555 non-null  object \n 13  ICS_209_INCIDENT_NUMBER     2838 non-null    object \n 14  ICS_209_NAME                2838 non-null    object \n 15  MTBS_ID                     1137 non-null    object \n 16  MTBS_FIRE_NAME              1137 non-null    object \n 17  COMPLEX_NAME                927 non-null     object \n 18  FIRE_YEAR                   189550 non-null  int64  \n 19  DISCOVERY_DATE              189550 non-null  float64\n 20  DISCOVERY_DOY               189550 non-null  int64  \n 21  DISCOVERY_TIME              110217 non-null  float64\n 22  STAT_CAUSE_CODE             189550 non-null  float64\n 23  STAT_CAUSE_DESCR            189550 non-null  object \n 24  CONT_DATE                   91908 non-null   float64\n 25  CONT_DOY                    91908 non-null   float64\n 26  CONT_TIME                   91198 non-null   float64\n 27  FIRE_SIZE                   189550 non-null  float64\n 28  FIRE_SIZE_CLASS             189550 non-null  object \n 29  LATITUDE                    189550 non-null  float64\n 30  LONGITUDE                   189550 non-null  float64\n 31  OWNER_CODE                  189550 non-null  float64\n 32  OWNER_DESCR                 189550 non-null  object \n 33  STATE                       189550 non-null  object \n 34  COUNTY                      56221 non-null   object \n 35  FIPS_CODE                   56221 non-null   float64\n 36  FIPS_NAME                   56221 non-null   object \n 37  Shape                       189550 non-null  object \n 38  DISCOVERY_DATETIME          189550 non-null  object \n 39  DISCOVERY_DATEYEAR          189550 non-null  int64  \ndtypes: float64(12), int64(4), object(24)\nmemory usage: 57.8+ MB\n"
     ]
    }
   ],
   "source": [
    "df_fires.info()"
   ]
  },
  {
   "cell_type": "code",
   "execution_count": 4,
   "metadata": {},
   "outputs": [
    {
     "output_type": "execute_result",
     "data": {
      "text/plain": [
       "Miscellaneous        51943\n",
       "Equipment Use        39407\n",
       "Lightning            27000\n",
       "Arson                19635\n",
       "Debris Burning       14318\n",
       "Missing/Undefined    12605\n",
       "Campfire              9516\n",
       "Children              6930\n",
       "Smoking               5936\n",
       "Powerline             1198\n",
       "Railroad               720\n",
       "Fireworks              219\n",
       "Structure              123\n",
       "Name: STAT_CAUSE_DESCR, dtype: int64"
      ]
     },
     "metadata": {},
     "execution_count": 4
    }
   ],
   "source": [
    "df_fires[\"STAT_CAUSE_DESCR\"].value_counts()"
   ]
  },
  {
   "cell_type": "code",
   "execution_count": 5,
   "metadata": {},
   "outputs": [],
   "source": [
    "# encode to binary arson (1) and non-arson (0)\n",
    "df_fires['ARSON'] = np.where((df_fires.STAT_CAUSE_DESCR == \"Arson\"), 1, 0)"
   ]
  },
  {
   "cell_type": "code",
   "execution_count": 6,
   "metadata": {},
   "outputs": [],
   "source": [
    "df_fires['DISCOVERY_DATETIME'] = pd.to_datetime(df_fires['DISCOVERY_DATE'])"
   ]
  },
  {
   "cell_type": "code",
   "execution_count": 7,
   "metadata": {},
   "outputs": [],
   "source": [
    "df_fires['MONTH'] = pd.DatetimeIndex(df_fires['DISCOVERY_DATETIME']).month\n",
    "df_fires['DAY_OF_WEEK'] = df_fires['DISCOVERY_DATETIME'].dt.day_name()"
   ]
  },
  {
   "cell_type": "code",
   "execution_count": 8,
   "metadata": {},
   "outputs": [],
   "source": [
    "X_cols = [\"LATITUDE\", \"LONGITUDE\", \"DISCOVERY_DATE\", \"FIRE_SIZE\"]  # \"MONTH\", \"DAY_OF_WEEK\" \"FIRE_YEAR\", "
   ]
  },
  {
   "cell_type": "code",
   "execution_count": 9,
   "metadata": {},
   "outputs": [
    {
     "output_type": "stream",
     "name": "stdout",
     "text": [
      "<class 'pandas.core.frame.DataFrame'>\nRangeIndex: 189550 entries, 0 to 189549\nData columns (total 4 columns):\n #   Column          Non-Null Count   Dtype  \n---  ------          --------------   -----  \n 0   LATITUDE        189550 non-null  float64\n 1   LONGITUDE       189550 non-null  float64\n 2   DISCOVERY_DATE  189550 non-null  float64\n 3   FIRE_SIZE       189550 non-null  float64\ndtypes: float64(4)\nmemory usage: 5.8 MB\n"
     ]
    }
   ],
   "source": [
    "df_fires[X_cols].info()"
   ]
  },
  {
   "cell_type": "code",
   "execution_count": 10,
   "metadata": {},
   "outputs": [],
   "source": [
    "X = df_fires[X_cols]\n",
    "# y = df_fires[\"ARSON\"]\n",
    "y = df_fires['STAT_CAUSE_DESCR']"
   ]
  },
  {
   "cell_type": "code",
   "execution_count": 11,
   "metadata": {},
   "outputs": [
    {
     "output_type": "execute_result",
     "data": {
      "text/plain": [
       "    LATITUDE   LONGITUDE  DISCOVERY_DATE  FIRE_SIZE\n",
       "0  40.036944 -121.005833       2453403.5       0.10\n",
       "1  38.933056 -120.404444       2453137.5       0.25\n",
       "2  38.984167 -120.735556       2453156.5       0.10\n",
       "3  38.559167 -119.913333       2453184.5       0.10\n",
       "4  38.559167 -119.933056       2453184.5       0.10"
      ],
      "text/html": "<div>\n<style scoped>\n    .dataframe tbody tr th:only-of-type {\n        vertical-align: middle;\n    }\n\n    .dataframe tbody tr th {\n        vertical-align: top;\n    }\n\n    .dataframe thead th {\n        text-align: right;\n    }\n</style>\n<table border=\"1\" class=\"dataframe\">\n  <thead>\n    <tr style=\"text-align: right;\">\n      <th></th>\n      <th>LATITUDE</th>\n      <th>LONGITUDE</th>\n      <th>DISCOVERY_DATE</th>\n      <th>FIRE_SIZE</th>\n    </tr>\n  </thead>\n  <tbody>\n    <tr>\n      <th>0</th>\n      <td>40.036944</td>\n      <td>-121.005833</td>\n      <td>2453403.5</td>\n      <td>0.10</td>\n    </tr>\n    <tr>\n      <th>1</th>\n      <td>38.933056</td>\n      <td>-120.404444</td>\n      <td>2453137.5</td>\n      <td>0.25</td>\n    </tr>\n    <tr>\n      <th>2</th>\n      <td>38.984167</td>\n      <td>-120.735556</td>\n      <td>2453156.5</td>\n      <td>0.10</td>\n    </tr>\n    <tr>\n      <th>3</th>\n      <td>38.559167</td>\n      <td>-119.913333</td>\n      <td>2453184.5</td>\n      <td>0.10</td>\n    </tr>\n    <tr>\n      <th>4</th>\n      <td>38.559167</td>\n      <td>-119.933056</td>\n      <td>2453184.5</td>\n      <td>0.10</td>\n    </tr>\n  </tbody>\n</table>\n</div>"
     },
     "metadata": {},
     "execution_count": 11
    }
   ],
   "source": [
    "X.head()"
   ]
  },
  {
   "cell_type": "code",
   "execution_count": 12,
   "metadata": {},
   "outputs": [],
   "source": [
    "from sklearn.model_selection import train_test_split\n",
    "from sklearn.naive_bayes import GaussianNB\n",
    "from sklearn.multiclass import OneVsRestClassifier\n",
    "import joblib"
   ]
  },
  {
   "cell_type": "code",
   "execution_count": 13,
   "metadata": {},
   "outputs": [],
   "source": [
    " X_train, X_test, y_train, y_test = train_test_split(X, y,\n",
    "    test_size=0.2,\n",
    "    random_state=1,\n",
    "    stratify=y)"
   ]
  },
  {
   "cell_type": "code",
   "execution_count": 14,
   "metadata": {},
   "outputs": [],
   "source": [
    "clf1 = OneVsRestClassifier(GaussianNB())"
   ]
  },
  {
   "cell_type": "code",
   "execution_count": 15,
   "metadata": {},
   "outputs": [
    {
     "output_type": "execute_result",
     "data": {
      "text/plain": [
       "OneVsRestClassifier(estimator=GaussianNB())"
      ]
     },
     "metadata": {},
     "execution_count": 15
    }
   ],
   "source": [
    "clf1.fit(X_train, y_train)"
   ]
  },
  {
   "cell_type": "code",
   "execution_count": 16,
   "metadata": {},
   "outputs": [
    {
     "output_type": "stream",
     "name": "stdout",
     "text": [
      "                   precision    recall  f1-score   support\n\n            Arson       0.00      0.00      0.00      3927\n         Campfire       0.15      0.00      0.00      1903\n         Children       0.04      0.98      0.07      1386\n   Debris Burning       0.00      0.00      0.00      2864\n    Equipment Use       0.33      0.01      0.02      7881\n        Fireworks       0.00      0.00      0.00        44\n        Lightning       0.48      0.01      0.02      5400\n    Miscellaneous       0.30      0.01      0.02     10388\nMissing/Undefined       0.28      0.04      0.08      2521\n        Powerline       0.00      0.00      0.00       240\n         Railroad       0.00      0.00      0.00       144\n          Smoking       0.00      0.00      0.00      1187\n        Structure       0.00      0.00      0.00        25\n\n         accuracy                           0.05     37910\n        macro avg       0.12      0.08      0.02     37910\n     weighted avg       0.24      0.05      0.02     37910\n\n"
     ]
    }
   ],
   "source": [
    "y_pred = clf1.predict(X_test)\n",
    "print(classification_report(y_test, y_pred))"
   ]
  },
  {
   "cell_type": "code",
   "execution_count": 17,
   "metadata": {},
   "outputs": [
    {
     "output_type": "execute_result",
     "data": {
      "text/plain": [
       "['../models/gaussian_nb_classifier.pkl']"
      ]
     },
     "metadata": {},
     "execution_count": 17
    }
   ],
   "source": [
    "joblib.dump(clf1, '../models/gaussian_nb_classifier.pkl')"
   ]
  },
  {
   "cell_type": "code",
   "execution_count": 18,
   "metadata": {},
   "outputs": [
    {
     "output_type": "stream",
     "name": "stdout",
     "text": [
      "         LATITUDE   LONGITUDE  DISCOVERY_DATE  FIRE_SIZE\n100568  37.093056 -121.573056       2448787.5        0.3\n"
     ]
    }
   ],
   "source": [
    "print(X_test[:1])"
   ]
  },
  {
   "cell_type": "code",
   "execution_count": 19,
   "metadata": {},
   "outputs": [
    {
     "output_type": "stream",
     "name": "stdout",
     "text": [
      "100568    Equipment Use\nName: STAT_CAUSE_DESCR, dtype: object\n"
     ]
    }
   ],
   "source": [
    "print(y_test[:1])"
   ]
  },
  {
   "cell_type": "code",
   "execution_count": 20,
   "metadata": {},
   "outputs": [
    {
     "output_type": "execute_result",
     "data": {
      "text/plain": [
       "array(['Children'], dtype='<U17')"
      ]
     },
     "metadata": {},
     "execution_count": 20
    }
   ],
   "source": [
    "classifier = joblib.load('../models/gaussian_nb_classifier.pkl')    \n",
    "\n",
    "#['LATITUDE', 'LONGITUDE', 'DISCOVERY_DATE', 'FIRE_SIZE']\n",
    "pred_test = [[37.093056, -121.573056, 2448787.5, 0.3]]\n",
    "\n",
    "classifier.predict(pred_test)"
   ]
  }
 ]
}